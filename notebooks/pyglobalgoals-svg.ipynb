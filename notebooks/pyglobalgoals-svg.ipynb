{
 "cells": [
  {
   "cell_type": "markdown",
   "metadata": {},
   "source": [
    "# pyglobalgoals-svg"
   ]
  },
  {
   "cell_type": "markdown",
   "metadata": {},
   "source": [
    "* | Src:\n",
    "* | Nbviewer:"
   ]
  },
  {
   "cell_type": "code",
   "execution_count": 3,
   "metadata": {
    "collapsed": false
   },
   "outputs": [
    {
     "name": "stdout",
     "output_type": "stream",
     "text": [
      "Requirement already satisfied (use --upgrade to upgrade): svgwrite in /home/wturner/-wrk/-ce27/pyglobalgoals/lib/python2.7/site-packages\n",
      "Requirement already satisfied (use --upgrade to upgrade): pyparsing>=2.0.1 in /home/wturner/-wrk/-ce27/pyglobalgoals/lib/python2.7/site-packages (from svgwrite)\n",
      "Obtaining image-size from git+https://github.com/scardine/image_size@324affe#egg=image-size\n",
      "  Updating ./src/image-size clone (to 324affe)\n",
      "\u001b[33m  Could not find a tag or branch '324affe', assuming commit.\u001b[0m\n",
      "Installing collected packages: image-size\n",
      "  Running setup.py develop for image-size\n",
      "Successfully installed image-size\n"
     ]
    }
   ],
   "source": [
    "!pip install svgwrite\n",
    "# https://svgwrite.readthedocs.org/en/latest/overview.html\n",
    "import svgwrite\n",
    "\n",
    "!pip install -e git+https://github.com/scardine/image_size@324affe#egg=image-size\n",
    "import get_image_size"
   ]
  },
  {
   "cell_type": "code",
   "execution_count": null,
   "metadata": {
    "collapsed": true
   },
   "outputs": [],
   "source": [
    "dwg = svgwrite.Drawing(height=800, width=600)\n",
    "print(('dwg', dwg))\n",
    "img = svgwrite.image.Image(href='./data/images/partnership.png')\n",
    "print(('img', img))\n",
    "dwg.add(img)\n",
    "print(('dwg', dwg))\n",
    "print(('elements', dwg.elements))\n",
    "for e in dwg.elements:\n",
    "    print((e, e.tostring()))\n",
    "print(('dwg_svg', dwg.tostring()))\n",
    "\n",
    "def prettify_xml(obj):\n",
    "    return (bs4.BeautifulSoup(dwg.tostring(), features='xml').prettify())\n",
    "print(\"\")\n",
    "print(prettify_xml(dwg.tostring()))"
   ]
  },
  {
   "cell_type": "code",
   "execution_count": 4,
   "metadata": {
    "collapsed": false
   },
   "outputs": [
    {
     "name": "stdout",
     "output_type": "stream",
     "text": [
      "('./data/images/gg-7renewableenergy-english.png', 377, 377)\n",
      "('./data/images/no-poverty1.png', 377, 377)\n",
      "('./data/images/gg-16peaceandjusticestronginstitutions-english_newversion_edited_09.09.15.png', 377, 377)\n",
      "('./data/images/gg-3goodhealth-english.png', 377, 377)\n",
      "('./data/images/gg-9innovationandinfrastructure-english.png', 377, 377)\n",
      "('./data/images/land-life.png', 377, 377)\n",
      "('./data/images/clean-water.png', 377, 377)\n",
      "('./data/images/gg-8goodjobseconomicgrowth-english.png', 377, 377)\n",
      "('./data/images/water-life.png', 377, 377)\n",
      "('./data/images/gg-12responsibleconsumption-english.png', 377, 377)\n",
      "('./data/images/gg-2nohunger-english.png', 377, 377)\n",
      "('./data/images/cities.png', 377, 377)\n",
      "('./data/images/gender1.png', 377, 377)\n",
      "('./data/images/reduced-inequality.png', 377, 377)\n",
      "('./data/images/partnership.png', 377, 377)\n",
      "('./data/images/education.png', 377, 377)\n",
      "('./data/images/climate.png', 377, 377)\n"
     ]
    }
   ],
   "source": [
    "import glob\n",
    "files = glob.glob('./data/images/*.png')\n",
    "for img_path in files:\n",
    "    md = get_image_size.get_image_metadata(img_path)\n",
    "    print((img_path, md.height, md.width)) #, md ))"
   ]
  },
  {
   "cell_type": "code",
   "execution_count": null,
   "metadata": {
    "collapsed": true
   },
   "outputs": [],
   "source": []
  }
 ],
 "metadata": {
  "kernelspec": {
   "display_name": "Python 2",
   "language": "python",
   "name": "python2"
  },
  "language_info": {
   "codemirror_mode": {
    "name": "ipython",
    "version": 2
   },
   "file_extension": ".py",
   "mimetype": "text/x-python",
   "name": "python",
   "nbconvert_exporter": "python",
   "pygments_lexer": "ipython2",
   "version": "2.7.10"
  }
 },
 "nbformat": 4,
 "nbformat_minor": 0
}
