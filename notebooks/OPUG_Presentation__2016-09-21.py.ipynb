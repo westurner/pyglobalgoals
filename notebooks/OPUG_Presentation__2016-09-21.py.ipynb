{
 "cells": [
  {
   "cell_type": "markdown",
   "metadata": {
    "nbpresent": {
     "id": "315aa366-2d21-4782-9b72-16edf9dc4245"
    }
   },
   "source": [
    "# Python for Linked Data: RDFS, RDFa, JSONLD, and Schema.org\n",
    "Developing a generalized RDFS Vocabulary for Goals, Objectives,\n",
    "Targets, and Indicators for the [UN](https://un.org) [Global Goals](http://globalgoals.org/)\n",
    "- | @type: CreativeWork > JupyterNotebook\n",
    "- | author: @westurner\n",
    "- | createdDate: 2016-09-19\n",
    "- | url: https://github.com/westurner/pyglobalgoals TODO\n"
   ]
  },
  {
   "cell_type": "markdown",
   "metadata": {
    "nbpresent": {
     "id": "21469d4f-9009-47b9-a9e1-c9b033ece057"
    }
   },
   "source": [
    "## #GlobalGoals for Sustainable Development (UN #SDGs)\n",
    "- https://globalgoals.org/\n",
    "- #GlobalGoals Week 2016: Sep 18 - 24th\n",
    "- The United Nations Sustainable Development Goals are the international\n",
    "  Goals, Targets, and Indicators for now through 2030. (#2030Now)\n",
    "\n",
    "> \"17 goals to achieve 3 extraordinary things in the next 15 years\"\n",
    ">\n",
    ">  - End extreme poverty.\n",
    ">  - Fight inequality & injustice.\n",
    ">  - Fix climate change.\n"
   ]
  },
  {
   "cell_type": "markdown",
   "metadata": {
    "nbpresent": {
     "id": "44fbebd2-e34c-4d0c-af68-76da3dae7600"
    }
   },
   "source": [
    "\n",
    "[![The 17 Global Goals](https://media.globalcitizen.org/thumbnails/0a/8d/0a8da7a0-09c8-4298-8839-09673064b51c/global-goals-full-icons.png__2318x1180_q85_crop_subsampling-2_upscale.jpg)](https://media.globalcitizen.org/thumbnails/0a/8d/0a8da7a0-09c8-4298-8839-09673064b51c/global-goals-full-icons.png__2318x1180_q85_crop_subsampling-2_upscale.jpg)"
   ]
  },
  {
   "cell_type": "markdown",
   "metadata": {},
   "source": [
    "## Objectives\n",
    "- Learn Linked Data Concepts\n",
    "- Define the Schema (SCH)\n",
    "  - SCH: schema.org/ :Project, :Goal, :Objective (un:Target), :Task, :Indicator,\n",
    "  - Extract the Data (DAT)\n",
    "    - pyglobalgoals Objectives\n",
    "      - https://github.com/westurner/pyglobalgoals/blob/develop/notebooks/globalgoals-pyglobalgoals.py.ipynb\n",
    "- Link Organizations' \\[Projects'] \\[Objectives] to un:GlobalGoals\n",
    "  - Query: \"Show me Organizations with Projects relevant to e.g. #Goal3 'Climate Action' \"\n",
    "  - Query: \"Show me Performance.gov Goals relevant to e.g. #Goal3 'Climate Action' \"\n",
    "  - Query: \"Find solutions that are affecting [local] change in these []Indicators\""
   ]
  },
  {
   "cell_type": "markdown",
   "metadata": {},
   "source": [
    "### Pessimistic, Optimistic, Realistic\n",
    "- Pessimistic\n",
    "  - Accomplish nothing more than existing KISS approaches\n",
    "  - Create work in evaluating Organizations' assertions (see: central SQL database)\n",
    "- Optimistic\n",
    "  - Make it easy to find organizations with similar objectives\n",
    "- Realistic\n",
    "  - Learn about Linked Data\n",
    "  - Produce a data interchange spec for further development\n",
    "  - Build/aggregate a catalog / directory / **graph** of GOs, NGOs, and [Non-] Profits"
   ]
  },
  {
   "cell_type": "markdown",
   "metadata": {},
   "source": [
    "## Existing KISS solutions\n",
    "- KISS: Keep it Simple\n",
    "- search(engine, \"#Goal3\")\n",
    "  - \"(They're / We're) working on #Goal3\" # need for #LinkedData, #StructuredData\n",
    "    - A mention is not a structured Project/Goal/Objective relation\n",
    "- Tree/outline of Goals, Objectives and relevant Projects\n",
    "  - Denormalization (\"We're working on goals 1, 2, and 3\")\n",
    "- Central SQL Schema, Database, HTML Templates\n",
    "  - SQL Schema : RDFS Schema :: SQL Database : RDF Graph Database\n",
    "  - This could work, too\n",
    "    - But I just want to search with a search engine\n",
    "    - Nobody is going to login to your app to keep updating their directory entry\n",
    "    - Then I *still* want to aggregate a graph of resources from {websites, social networks}\n",
    "      - Global Goals App:\n",
    "        - http://www.globalgoals.org/globe/\n",
    "          - ~(schema:Person, un:GlobalGoal, schema:Location, schema:Image)\n",
    "        - http://www.globalgoals.org/2015/09/29/download-the-global-goals-app/\n",
    "        - Instagram, Facebook, Twitter (... https://schema.org/SocialMediaPosting )\n",
    "- http://indicators.report/indicators/ # Indicators by Goals"
   ]
  },
  {
   "cell_type": "markdown",
   "metadata": {},
   "source": [
    "### For academic purposes\n",
    "- We assume that none of the Existing KISS solutions\n",
    "  completely solve for these additional objectives (user stories, use cases)\n",
    "  - (Or, that this academic exercise will produce new ideas for existing solutions)\n",
    "  - And forge ahead with implementing **#LinkedData** for the **#GlobalGoals**\n",
    "    - \\[ ] Take a few days and build a different solution anyway; because better\n",
    "- What can we add to the existing solutions?\n",
    "  - Links between {performance.gov Goals, } and {GlobalGoals/SDGs, Indicatord}\n",
    "    - Where a 'link' is an RDF relation\n",
    "  - TIL this is called \"strategic alignment\"\n",
    "    https://en.wikipedia.org/wiki/Strategic_alignment\n",
    "    - StratML: https://en.wikipedia.org/wiki/Strategy_Markup_Language\n",
    "      - https://github.com/schemaorg/schemaorg/issues/1127#issuecomment-220780158"
   ]
  },
  {
   "cell_type": "markdown",
   "metadata": {
    "nbpresent": {
     "id": "12eb3d48-179d-4074-9f49-1cffe46644c3"
    }
   },
   "source": [
    "#  Learn #LinkedData Concepts\n",
    "- Linked Data\n",
    "  - RDF\n",
    "    - RDFa\n",
    "    - JSONLD\n",
    "  - RDFS\n",
    "    - Schema.org\n",
    "\n",
    "\n",
    "\n",
    "\n",
    "\n"
   ]
  },
  {
   "cell_type": "markdown",
   "metadata": {},
   "source": [
    "### Linked Data\n",
    "- https://wrdrd.com/docs/consulting/knowledge-engineering#linked-data\n",
    "- 5 Star Linked Data: http://5stardata.info\n",
    "  - ☆ Publish data on the Web in any format (e.g., PDF, JPEG) accompanied by an explicit Open License (expression of rights).\n",
    "  - ☆☆ Publish structured data on the Web in a machine-readable format (e.g. XML).\n",
    "  - ☆☆☆ Publish structured data on the Web in a documented, non-proprietary data format (e.g. CSV, KML).\n",
    "  - ☆☆☆☆ Publish structured data on the Web as RDF (e.g. Turtle, **RDFa**, **JSON-LD**, SPARQL.)\n",
    "  - ☆☆☆☆☆ In your RDF, have the identifiers be **[links]() (URLs)** to useful data sources."
   ]
  },
  {
   "cell_type": "markdown",
   "metadata": {},
   "source": [
    "### RDF\n",
    "- https://wrdrd.com/docs/consulting/knowledge-engineering#rdf\n",
    "- RDF (*Resource Description Format*) is a W3C Standard for **Graphs** of **Triples** (or *Quads*)\n",
    "- Triple: (Subject, Predicate, Object)\n",
    "- Quad: (Graph, Subject, Predicate, Object) # \"Named Graph\"\n",
    "- Graph, Subject, and Predicate SHOULD be URIs\n",
    "  - ([URI], URI, URI, Value)\n",
    "- An example with subject [#thing1]()\n",
    "  - ([#thing1](), a, [schema:CreativeWork](http://schema.org/CreativeWork)) ... \"a\" == rdf:Type\n",
    "  - (http://example.org/page, [#thing1](), a, [schema:CreativeWork](http://schema.org/CreativeWork))\n",
    "  - (http://example.org/page, [#thing1](), [schema:name](http://schema.org/name), \"Thing 1\"@en)\n",
    "- XSD Types (xsd:string, xsd:boolean, xsd:decimal, xsd:base64Binary)\n",
    "  - https://www.w3.org/TR/xmlschema11-2/#built-in-datatypes\n",
    "- ``\"Hello World\"@en`` has an ``xml:lang`` of \"en\" (Turtle syntax)\n",
    "- rdf:List for guaranteed ordering (*)"
   ]
  },
  {
   "cell_type": "markdown",
   "metadata": {},
   "source": [
    "#### Objectives (Turtle RDF Syntax)\n",
    "- [https://en.wikipedia.org/wiki/Turtle_(syntax)]()\n",
    "\n",
    "```turtle\n",
    "<> a schema:Project;\n",
    "  schema:name \"Python for Linked Data: RDFS, RDFa, JSONLD, and Schema.org\"@en ;\n",
    "  schema:description \"Developing a generalized RDFS Vocabulary for Goals, Objectives,\n",
    "Targets, and Indicators for the UN Global Goals\"@en ;\n",
    "  schema:hasPart [ \n",
    "      a schema:Objective ;\n",
    "      schema:name \"Learn Linked Data Concepts\"@en ;\n",
    "      schema:hasPart [\n",
    "          a schema:Objective ;\n",
    "          schema:name \"Define schema.org/ :Project, :Goal, :Objective (un:Target), :Task, :Indicator,\"@en ;\n",
    "  ];\n",
    "  schema:hasPart [\n",
    "      a schema:Objective;\n",
    "      schema:name \"Link Organizations' [Projects'] [Objectives] to un:GlobalGoals\"@en ;\n",
    "      schema:hasPart [\n",
    "          a schema:Objective ;\n",
    "          schema:name \"Query: \\\"Show me Organizations with Projects relevant to e.g. #Goal3 'Climate Action' \"\"@en ;\n",
    "      ]\n",
    "  ]\n",
    "  .\n",
    "```"
   ]
  },
  {
   "cell_type": "markdown",
   "metadata": {},
   "source": [
    "### RDFS\n",
    "- https://wrdrd.com/docs/consulting/knowledge-engineering#rdfs\n",
    "- RDFS (\"RDF Schema\") is a standard for specifying vocabularies of Classes with Properties.\n",
    "- Class (C)\n",
    "  - rdf:type schema:Thing # RDF\n",
    "  - @type: schema:Thing   # JSONLD\n",
    "- Property (P)\n",
    "  - rdfs:**domain** schema:Thing\n",
    "  - rdfs:**range** [schema:Text, schema:Thing, schema:URL]\n",
    "- Schema.org is an RDFS Vocabulary maintained as RDFa (and transformed to RDF/XML, Turtle, JSONLD)"
   ]
  },
  {
   "cell_type": "markdown",
   "metadata": {},
   "source": [
    "### RDFa\n",
    "- https://wrdrd.com/docs/consulting/knowledge-engineering#rdfa\n",
    "- RDFa (\"RDF in Attributes\") is a W3C standard for inlining structured data in an (X)HTML(5) page.\n",
    "- HTML + extra attributes = RDFa\n",
    "- An example of adding RDFa to an HTML page\n",
    "  - https://github.com/CodeForAntarctica/codeforantarctica.github.io/pull/3/files\n",
    "  - TODO: screenshot?\n",
    "- Schema.org Core Vocabulary RDFa:\n",
    "  - https://github.com/schemaorg/schemaorg/blob/sdo-callisto/data/schema.rdfa"
   ]
  },
  {
   "cell_type": "markdown",
   "metadata": {},
   "source": [
    "### JSON-LD\n",
    "- https://wrdrd.com/docs/consulting/knowledge-engineering#jsonld #JSONLD\n",
    "- JSON-LD (*JSON Linked Data*) is a W3C Standard for getting RDF triples from some or all of a JSON Document.\n",
    "- JSON + **``@context``** document = JSONLD\n",
    "- \"JSON-LD and Why I Hate the Semantic Web\" \n",
    "  http://manu.sporny.org/2014/json-ld-origins-2/\n",
    "  - RDF can be frustrating for programmers\n",
    "  - Ordered lists in RDF require explicit ``rdf:first`` and ``rdf:rest`` constructions:\n",
    "  \n",
    "  > RDF is a s----- data model. It doesn’t have native support for lists. LISTS for f---’s sake! The key data structure that’s used by almost every programmer on this planet and RDF starts out by giving developers a big fat middle finger in that area.\n",
    "  \n",
    "  - JSON-LD supports lists\n",
    "  \n",
    "  ```json\n",
    "  { \"@context\": {\n",
    "      \"listOfThings\": { \"@container\": \"@list\", \"@type\": \"string\"},\n",
    "      \"listOfURIs\":   { \"@container\": \"@list\", \"@type\": \"@id\" } },\n",
    "    \"listOfThings\": [\"one\", \"two\", \"three\"],\n",
    "    \"listOfURIs\": [\"http://#one\", \"http://#two\", \"http://#three\"],\n",
    "  }\n",
    "  ```"
   ]
  },
  {
   "cell_type": "markdown",
   "metadata": {},
   "source": [
    "#### JSON-LD Schema.org Example 1 (@context URL)\n",
    "- An example: This meeting:\n",
    "  - https://schema.org/Event\n",
    "    - location: https://schema.org/Place\n",
    "      - address: https://schema.org/PostalAddress\n",
    "- A client MAY retrieve (and cache) the JSONLD @context(s)\n",
    "    \n",
    "```json\n",
    "{\"@context\": [\"http://schema.org/\", {\"schema\": \"http://schema.org/\"}],\n",
    " \"@type\": \"Event\",\n",
    " \"name\": \"Omaha Python Users Group September Meeting\",\n",
    " \"url\": \"http://www.omahapython.org/blog/archives/501\",\n",
    " \"startDate\": \"2016-09-21T18:30:00-0500\",\n",
    " \"endDate\": \"2016-09-21T20:30:00-0500\",\n",
    " \"location\": {\n",
    "   \"@type\": \"schema:Place\",\n",
    "   \"name\": \"DoSpace: Meeting Room 2\",\n",
    "   \"url\": \"http://dospace.org/\",\n",
    "   \"hasMap\": \"https://www.google.com/maps?daddr=7205+Dodge+Street+Omaha+NE\",\n",
    "   \"address\": {\n",
    "     \"@type\": \"schema:PostalAddress\",\n",
    "     \"addressCountry\": \"USA\",\n",
    "     \"postalCode\": \"68114\",\n",
    "     \"streetAddress\": \"7205 Dodge Street\",\n",
    "     \"addressLocality\": \"Omaha\",\n",
    "     \"addressRegion\": \"NE\"\n",
    "   }\n",
    " }\n",
    "}\n",
    "```"
   ]
  },
  {
   "cell_type": "markdown",
   "metadata": {},
   "source": [
    "#### JSON-LD Schema.org Example 2 (inline @context)\n",
    "\n",
    "```json\n",
    "{\"@context\": [\"http://schema.org/\", {\n",
    "   \"title\": \"http://schema.org/name\",\n",
    "   \"date_created\": \"http://schema.org/dateCreated\",\n",
    "   \"sameAs\": { \"@type\": \"@id\", \"@container\": \"@list\" }\n",
    " }],\n",
    " \"@graph\": [\n",
    "   {\"title\": \"Thing1\",\n",
    "    \"url\": \"#Thing1\",\n",
    "    \"date_created\": \"2016-09-19\",\n",
    "    \"sameAs\": [\"http://#Thing2\", \"https://#Thing3\"],\n",
    "   }\n",
    " ]\n",
    "}\n",
    "```\n",
    "- [...] http://json-ld.org/playground/"
   ]
  },
  {
   "cell_type": "markdown",
   "metadata": {},
   "source": [
    "#### schema.org/sameAs JSON-LD\n",
    "- http://schema.org/sameAs  # Schema URIs are HTTP\n",
    "- https://schema.org/sameAs\n",
    "- https://raw.githubusercontent.com/schemaorg/schemaorg/sdo-callisto/data/releases/3.2/all-layers.jsonld\n",
    "\n",
    "```json\n",
    "{\n",
    "  \"@id\": \"http://schema.org/sameAs\",\n",
    "  \"@type\": \"rdf:Property\",\n",
    "  \"http://schema.org/domainIncludes\": {\n",
    "    \"@id\": \"http://schema.org/Thing\"\n",
    "  },\n",
    "  \"http://schema.org/rangeIncludes\": {\n",
    "    \"@id\": \"http://schema.org/URL\"\n",
    "  },\n",
    "  \"rdfs:comment\": \"URL of a reference Web page that unambiguously indicates the item's identity. E.g. the URL of the item's Wikipedia page, Wikidata entry, or official website.\",\n",
    "  \"rdfs:label\": \"sameAs\"\n",
    "},\n",
    "```\n",
    "- side note: schema:sameAs != owl:sameAs (``schema:sameAs owl:differentFrom owl:sameAs``)\n",
    "  - http://prefix.cc/owl:sameAs\n",
    "  - https://www.w3.org/TR/owl2-quick-reference/#Axioms\n",
    "```turtle\n",
    "  owl:sameAs a rdf:Property ;\n",
    "     rdfs:label \"sameAs\" ;\n",
    "     rdfs:comment \"The property that determines that two given individuals are equal.\" ;\n",
    "     rdfs:domain owl:Thing ;\n",
    "     rdfs:isDefinedBy <http://www.w3.org/2002/07/owl#> ;\n",
    "     rdfs:range owl:Thing . \n",
    "```"
   ]
  },
  {
   "cell_type": "markdown",
   "metadata": {},
   "source": [
    "### Schema.org\n",
    "- | Homepage: https://schema.org/\n",
    "- https://wrdrd.com/docs/consulting/knowledge-engineering#schemaorg\n",
    "- Schema.org is a unified RDFS vocabulary for describing Thing(s) as RDFa, Microdata, JSON-LD\n",
    "- [Bing, Google, Yahoo, Yandex,] all index specific http://schema.org/Thing s\n",
    "- Schema.org RDFa: https://github.com/schemaorg/schemaorg/blob/sdo-callisto/data/schema.rdfa\n",
    "  - Schema.org JSONLD: https://github.com/schemaorg/schemaorg/blob/sdo-callisto/data/releases/3.2/all-layers.jsonld"
   ]
  },
  {
   "cell_type": "markdown",
   "metadata": {},
   "source": [
    "# Define the Schema\n",
    "\n",
    "- [ ] SCH: Classes and Properties (Schema.org RDFS RDFa)\n",
    "- [ ] DAT: Examples (JSON-LD,)\n",
    "  - [ ] ETL Existing Data (Extract-Transform-Load)\n"
   ]
  },
  {
   "cell_type": "markdown",
   "metadata": {},
   "source": [
    "## SCH: Classes and Properties\n",
    "* | Issue: https://github.com/schemaorg/schemaorg/issues/1127\n",
    "* | Branch: https://github.com/westurner/schemaorg/tree/feature/mission-project-goal-objective-task\n",
    "* | PR: https://github.com/schemaorg/schemaorg/pull/1128\n",
    "- Classes\n",
    "  - [x] [CreativeWork](https://schema.org/CreativeWork)\n",
    "    - [-] Project\n",
    "    - [-] Goal\n",
    "    - [ ] Completeable\n",
    "      - [-] Objective (un:Target)\n",
    "      - [-] Task\n",
    "    - [ ] Indicator\n",
    "      - [StructuredValue](https://schema.org/StructuredValue), XKOS, W3C Data Cubes (``qb:``) is a superset of SDMX \n",
    "      - [ ] QualitativeIndicator\n",
    "      - [ ] QuantitativeIndicator\n",
    "- Properties\n",
    "  - [x] [partOf](https://schema.org/partOf)\n",
    "  - [-] mission d:Organization r:Text "
   ]
  },
  {
   "cell_type": "markdown",
   "metadata": {},
   "source": [
    "## DAT: Examples\n",
    "- schema.org examples are stored in flat .txt files w/ custom record delimiters\n",
    "  - ``TYPES:``, ``PRE-MARKUP:``, ``MICRODATA:``, ``RDFA:``, ``JSON:`` (JSON-LD)\n",
    "  - https://github.com/schemaorg/schemaorg/blob/sdo-deimos/data/examples.txt\n",
    "  - https://github.com/schemaorg/schemaorg/tree/sdo-deimos/data/ext/pending\n",
    "    - ./issue-1127.rdfa\n",
    "    - ./**issue-1127-examples.txt**"
   ]
  },
  {
   "cell_type": "markdown",
   "metadata": {},
   "source": [
    "### ETL Existing Data\n",
    "- The Global Goals (and SDGs) are available from various HTML pages\n",
    "  - http://www.un.org/sustainabledevelopment/sustainable-development-goals/\n",
    "    - [x] http://globalgoals.org/\n",
    "      - [ ] http://www.globalgoals.org/global-goals/no-poverty/ (sdg1)\n",
    "  - [ ] http://unstats.un.org/sdgs/metadata/ (Goal 1, Target 1.1, Indicator 1.1.1)\n",
    "  - [ ] https://sustainabledevelopment.un.org/sdgs\n",
    "    - [ ] https://sustainabledevelopment.un.org/sdg1\n",
    "  - [ ] http://unstats.un.org/sdgs/report/2016/\n",
    "    - [ ] http://unstats.un.org/sdgs/report/2016/goal-01/"
   ]
  },
  {
   "cell_type": "markdown",
   "metadata": {},
   "source": [
    "#### pyglobalgoals\n",
    "- BeautifulSoup( http://globalgoals.org/ ) => JSON-LD\n",
    "- https://github.com/westurner/pyglobalgoals/blob/develop/notebooks/globalgoals-pyglobalgoals.py.ipynb\n",
    "  - JSON-LD: https://github.com/westurner/pyglobalgoals/blob/develop/notebooks/data/globalgoals.jsonld\n",
    "    - [ ] g.parse(graph1); g.parse(graph2)  # implicit merge on @id"
   ]
  },
  {
   "cell_type": "markdown",
   "metadata": {},
   "source": [
    "# Link between different Goal sets\n",
    "- https://www.performance.gov/node/3406 \"Climate Change (Federal Actions)\"\n",
    "- Goal 13: http://www.globalgoals.org/global-goals/protect-the-planet/\n",
    "  - Goal 7: http://www.globalgoals.org/global-goals/modern-energy/\n",
    "  \n",
    "```json\n",
    "[{\"@type\": \"schema:Goal\",\n",
    "  \"name\": \"Climate Change (Federal Actions)\",\n",
    "  \"url\": \"https://www.performance.gov/node/3406\",\n",
    "  \"@id\": \"https://www.performance.gov/node/3406\",\n",
    "  \n",
    "  \"globalgoal\": [\n",
    "      \"http://schema.un.org/#Goal13\",\n",
    "      \"http://schema.un.org/#Goal7\"\n",
    "   ]\n",
    "}]\n",
    "```\n",
    "\n",
    "- This is flat, simple property\n",
    "  - This relation could/should be reified as an Edge Class\n",
    "  \n",
    "```json\n",
    "[ {\"@type\": \"todo:GoalRelation\",\n",
    "   \"from\": \"https://www.performance.gov/node/3406\",\n",
    "   \"to\": \"http://schema.un.org/#Goal13\",\n",
    "   \"dateCreated\": \"...\",\n",
    "   \"author\": \"...\",\n",
    "   \"comments\": [...]\n",
    "  }\n",
    "]\n",
    "```"
   ]
  },
  {
   "cell_type": "markdown",
   "metadata": {
    "nbpresent": {
     "id": "9b6f7933-c74e-4268-8d4f-97c633096765"
    }
   },
   "source": [
    "# Tools\n",
    "- Presentation\n",
    "  - Jupyter Notebook: https://wrdrd.com/docs/tools/#jupyter-notebook\n",
    "  - nbpresent: https://wrdrd.com/docs/tools/#nbpresent\n",
    "- Code\n",
    "  - conda: https://wrdrd.com/docs/tools/#conda\n",
    "  - rdflib: https://wrdrd.com/docs/consulting/knowledge-engineering#rdflib\n",
    "    - rdflib-jsonld: https://github.com/RDFLib/rdflib-jsonld"
   ]
  }
 ],
 "metadata": {
  "anaconda-cloud": {},
  "kernelspec": {
   "display_name": "Python [conda env:pyglobalgoals]",
   "language": "python",
   "name": "conda-env-pyglobalgoals-py"
  },
  "language_info": {
   "codemirror_mode": {
    "name": "ipython",
    "version": 2
   },
   "file_extension": ".py",
   "mimetype": "text/x-python",
   "name": "python",
   "nbconvert_exporter": "python",
   "pygments_lexer": "ipython2",
   "version": "2.7.12"
  },
  "nav_menu": {},
  "nbpresent": {
   "slides": {
    "04ba90a2-dc3f-436d-a2d0-cff4fd058556": {
     "id": "04ba90a2-dc3f-436d-a2d0-cff4fd058556",
     "prev": "b130f452-674a-41f7-8bbc-690a653a0b76",
     "regions": {
      "235878da-2839-4d9e-90b0-1d45af9503b2": {
       "attrs": {
        "height": 1,
        "width": 1,
        "x": 0,
        "y": 0
       },
       "content": {
        "cell": "12eb3d48-179d-4074-9f49-1cffe46644c3",
        "part": "source"
       },
       "id": "235878da-2839-4d9e-90b0-1d45af9503b2"
      }
     }
    },
    "13b8b120-a613-4a5e-97b7-52494e1726b1": {
     "id": "13b8b120-a613-4a5e-97b7-52494e1726b1",
     "prev": null,
     "regions": {
      "8d02e783-4bb3-49f6-b7db-cb618c7aa164": {
       "attrs": {
        "height": 1,
        "width": 1,
        "x": 0,
        "y": 0
       },
       "content": {
        "cell": "315aa366-2d21-4782-9b72-16edf9dc4245",
        "part": "source"
       },
       "id": "8d02e783-4bb3-49f6-b7db-cb618c7aa164"
      }
     }
    },
    "6a3fd6de-f4e5-4ed3-9400-486277984ecd": {
     "id": "6a3fd6de-f4e5-4ed3-9400-486277984ecd",
     "prev": "13b8b120-a613-4a5e-97b7-52494e1726b1",
     "regions": {
      "39992053-64a2-4e02-9b90-6f747af64303": {
       "attrs": {
        "height": 1,
        "width": 1,
        "x": 0,
        "y": 0
       },
       "content": {
        "cell": "21469d4f-9009-47b9-a9e1-c9b033ece057",
        "part": "source"
       },
       "id": "39992053-64a2-4e02-9b90-6f747af64303"
      }
     }
    },
    "ac46296e-6a8d-4c64-8a9f-92309e84f738": {
     "id": "ac46296e-6a8d-4c64-8a9f-92309e84f738",
     "prev": "04ba90a2-dc3f-436d-a2d0-cff4fd058556",
     "regions": {
      "fca437aa-64b8-4007-abc2-db39d30c0c0d": {
       "attrs": {
        "height": 1,
        "width": 1,
        "x": 0,
        "y": 0
       },
       "content": {
        "cell": "9b6f7933-c74e-4268-8d4f-97c633096765",
        "part": "source"
       },
       "id": "fca437aa-64b8-4007-abc2-db39d30c0c0d"
      }
     }
    },
    "b130f452-674a-41f7-8bbc-690a653a0b76": {
     "id": "b130f452-674a-41f7-8bbc-690a653a0b76",
     "prev": "6a3fd6de-f4e5-4ed3-9400-486277984ecd",
     "regions": {
      "14151e43-4243-4496-906c-f126a449c5e0": {
       "attrs": {
        "height": 1,
        "width": 1,
        "x": 0,
        "y": 0
       },
       "content": {
        "cell": "44fbebd2-e34c-4d0c-af68-76da3dae7600",
        "part": "source"
       },
       "id": "14151e43-4243-4496-906c-f126a449c5e0"
      }
     }
    }
   },
   "themes": {
    "default": "1192563c-5c54-48b0-9062-3634a3b24cc3",
    "theme": {
     "1192563c-5c54-48b0-9062-3634a3b24cc3": {
      "backgrounds": {
       "dc7afa04-bf90-40b1-82a5-726e3cff5267": {
        "background-color": "31af15d2-7e15-44c5-ab5e-e04b16a89eff",
        "id": "dc7afa04-bf90-40b1-82a5-726e3cff5267"
       }
      },
      "id": "1192563c-5c54-48b0-9062-3634a3b24cc3",
      "palette": {
       "19cc588f-0593-49c9-9f4b-e4d7cc113b1c": {
        "id": "19cc588f-0593-49c9-9f4b-e4d7cc113b1c",
        "rgb": [
         252,
         252,
         252
        ]
       },
       "31af15d2-7e15-44c5-ab5e-e04b16a89eff": {
        "id": "31af15d2-7e15-44c5-ab5e-e04b16a89eff",
        "rgb": [
         68,
         68,
         68
        ]
       },
       "50f92c45-a630-455b-aec3-788680ec7410": {
        "id": "50f92c45-a630-455b-aec3-788680ec7410",
        "rgb": [
         197,
         226,
         245
        ]
       },
       "c5cc3653-2ee1-402a-aba2-7caae1da4f6c": {
        "id": "c5cc3653-2ee1-402a-aba2-7caae1da4f6c",
        "rgb": [
         43,
         126,
         184
        ]
       },
       "efa7f048-9acb-414c-8b04-a26811511a21": {
        "id": "efa7f048-9acb-414c-8b04-a26811511a21",
        "rgb": [
         25.118061674008803,
         73.60176211453744,
         107.4819383259912
        ]
       }
      },
      "rules": {
       "a": {
        "color": "19cc588f-0593-49c9-9f4b-e4d7cc113b1c"
       },
       "blockquote": {
        "color": "50f92c45-a630-455b-aec3-788680ec7410",
        "font-size": 3
       },
       "code": {
        "font-family": "Anonymous Pro"
       },
       "h1": {
        "color": "19cc588f-0593-49c9-9f4b-e4d7cc113b1c",
        "font-family": "Merriweather",
        "font-size": 8
       },
       "h2": {
        "color": "19cc588f-0593-49c9-9f4b-e4d7cc113b1c",
        "font-family": "Merriweather",
        "font-size": 6
       },
       "h3": {
        "color": "50f92c45-a630-455b-aec3-788680ec7410",
        "font-family": "Lato",
        "font-size": 5.5
       },
       "h4": {
        "color": "c5cc3653-2ee1-402a-aba2-7caae1da4f6c",
        "font-family": "Lato",
        "font-size": 5
       },
       "h5": {
        "font-family": "Lato"
       },
       "h6": {
        "font-family": "Lato"
       },
       "h7": {
        "font-family": "Lato"
       },
       "li": {
        "color": "50f92c45-a630-455b-aec3-788680ec7410",
        "font-size": 3.25
       },
       "pre": {
        "font-family": "Anonymous Pro",
        "font-size": 4
       }
      },
      "text-base": {
       "color": "19cc588f-0593-49c9-9f4b-e4d7cc113b1c",
       "font-family": "Lato",
       "font-size": 4
      }
     }
    }
   }
  },
  "toc": {
   "navigate_menu": true,
   "number_sections": true,
   "sideBar": true,
   "threshold": 6,
   "toc_cell": false,
   "toc_section_display": "block",
   "toc_window_display": false
  }
 },
 "nbformat": 4,
 "nbformat_minor": 1
}
